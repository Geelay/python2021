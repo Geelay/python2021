{
 "cells": [
  {
   "cell_type": "code",
   "execution_count": 43,
   "metadata": {},
   "outputs": [],
   "source": [
    "sf = ['а',\n",
    " 'б',\n",
    " 'в',\n",
    " 'г',\n",
    " 'д',\n",
    " 'е',\n",
    " 'ё',\n",
    " 'ж',\n",
    " 'з',\n",
    " 'и',\n",
    " 'й',\n",
    " 'к',\n",
    " 'л',\n",
    " 'м',\n",
    " 'н',\n",
    " 'о',\n",
    " 'п',\n",
    " 'р',\n",
    " 'с',\n",
    " 'т',\n",
    " 'у',\n",
    " 'ф',\n",
    " 'х',\n",
    " 'ц',\n",
    " 'ч',\n",
    " 'ш',\n",
    " 'щ',\n",
    " 'ъ',\n",
    " 'ы',\n",
    " 'ь',\n",
    " 'э',\n",
    " 'ю',\n",
    " 'я']"
   ]
  },
  {
   "cell_type": "code",
   "execution_count": 46,
   "metadata": {},
   "outputs": [
    {
     "name": "stdout",
     "output_type": "stream",
     "text": [
      "16 15 -1 4 15 11 20 13 5 14 19 0 13 -1 13 14 5 -1 4 2 0 4 23 0 19 29 -1 25 5 18 19 29 -1 12 5 19 -1 16 15 -1 20 13 18 19 2 5 14 14 15 13 20 -1 17 0 8 2 9 19 9 31 -1 2 18 5 3 15 -1 15 4 9 14 14 0 4 23 0 19 29 -1 4 2 5 14 0 4 23 0 19 29 End\n",
      "по документам мне двадцать шесть лет по умственному развитию всего одиннадцать двенадцать\n"
     ]
    }
   ],
   "source": [
    "b = []\n",
    "i = 0\n",
    "a = input().split()\n",
    "word = a[i]\n",
    "while word != 'End':\n",
    "    i += 1\n",
    "    if word == \"-1\":\n",
    "        b.append(' ')\n",
    "    else:\n",
    "        b.append(sf[int(word)])\n",
    "    word = a[i]\n",
    "print(''.join(b))"
   ]
  },
  {
   "cell_type": "code",
   "execution_count": null,
   "metadata": {},
   "outputs": [],
   "source": []
  },
  {
   "cell_type": "code",
   "execution_count": null,
   "metadata": {},
   "outputs": [],
   "source": []
  },
  {
   "cell_type": "code",
   "execution_count": null,
   "metadata": {},
   "outputs": [],
   "source": []
  },
  {
   "cell_type": "code",
   "execution_count": null,
   "metadata": {},
   "outputs": [],
   "source": []
  },
  {
   "cell_type": "code",
   "execution_count": null,
   "metadata": {},
   "outputs": [],
   "source": []
  }
 ],
 "metadata": {
  "kernelspec": {
   "display_name": "Python 3",
   "language": "python",
   "name": "python3"
  },
  "language_info": {
   "codemirror_mode": {
    "name": "ipython",
    "version": 3
   },
   "file_extension": ".py",
   "mimetype": "text/x-python",
   "name": "python",
   "nbconvert_exporter": "python",
   "pygments_lexer": "ipython3",
   "version": "3.8.3"
  }
 },
 "nbformat": 4,
 "nbformat_minor": 4
}
